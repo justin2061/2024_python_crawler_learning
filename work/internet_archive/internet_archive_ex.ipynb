{
 "cells": [
  {
   "cell_type": "code",
   "execution_count": 1,
   "metadata": {},
   "outputs": [
    {
     "name": "stdout",
     "output_type": "stream",
     "text": [
      "Looking in indexes: https://pypi.org/simple, https://pypi.ngc.nvidia.com\n",
      "Collecting internetarchive\n",
      "  Downloading internetarchive-4.1.0-py3-none-any.whl (97 kB)\n",
      "     -------------------------------------- 97.5/97.5 kB 793.3 kB/s eta 0:00:00\n",
      "Collecting tqdm>=4.0.0\n",
      "  Downloading tqdm-4.66.4-py3-none-any.whl (78 kB)\n",
      "     ---------------------------------------- 78.3/78.3 kB ? eta 0:00:00\n",
      "Collecting schema>=0.4.0\n",
      "  Downloading schema-0.7.7-py2.py3-none-any.whl (18 kB)\n",
      "Requirement already satisfied: requests<3.0.0,>=2.25.0 in d:\\github\\2024_python_crawler_learning\\venv\\lib\\site-packages (from internetarchive) (2.28.1)\n",
      "Collecting jsonpatch>=0.4\n",
      "  Downloading jsonpatch-1.33-py2.py3-none-any.whl (12 kB)\n",
      "Collecting importlib-metadata>=3.6.0\n",
      "  Downloading importlib_metadata-8.0.0-py3-none-any.whl (24 kB)\n",
      "Collecting docopt<0.7.0,>=0.6.0\n",
      "  Downloading docopt-0.6.2.tar.gz (25 kB)\n",
      "  Preparing metadata (setup.py): started\n",
      "  Preparing metadata (setup.py): finished with status 'done'\n",
      "Requirement already satisfied: urllib3>=1.26.0 in d:\\github\\2024_python_crawler_learning\\venv\\lib\\site-packages (from internetarchive) (1.26.16)\n",
      "Collecting zipp>=0.5\n",
      "  Downloading zipp-3.19.2-py3-none-any.whl (9.0 kB)\n",
      "Collecting jsonpointer>=1.9\n",
      "  Downloading jsonpointer-3.0.0-py2.py3-none-any.whl (7.6 kB)\n",
      "Requirement already satisfied: certifi>=2017.4.17 in d:\\github\\2024_python_crawler_learning\\venv\\lib\\site-packages (from requests<3.0.0,>=2.25.0->internetarchive) (2023.5.7)\n",
      "Requirement already satisfied: idna<4,>=2.5 in d:\\github\\2024_python_crawler_learning\\venv\\lib\\site-packages (from requests<3.0.0,>=2.25.0->internetarchive) (3.4)\n",
      "Requirement already satisfied: charset-normalizer<3,>=2 in d:\\github\\2024_python_crawler_learning\\venv\\lib\\site-packages (from requests<3.0.0,>=2.25.0->internetarchive) (2.1.1)\n",
      "Requirement already satisfied: colorama in d:\\github\\2024_python_crawler_learning\\venv\\lib\\site-packages (from tqdm>=4.0.0->internetarchive) (0.4.6)\n",
      "Installing collected packages: schema, docopt, zipp, tqdm, jsonpointer, jsonpatch, importlib-metadata, internetarchive\n",
      "  Running setup.py install for docopt: started\n",
      "  Running setup.py install for docopt: finished with status 'done'\n",
      "Successfully installed docopt-0.6.2 importlib-metadata-8.0.0 internetarchive-4.1.0 jsonpatch-1.33 jsonpointer-3.0.0 schema-0.7.7 tqdm-4.66.4 zipp-3.19.2\n"
     ]
    },
    {
     "name": "stderr",
     "output_type": "stream",
     "text": [
      "  DEPRECATION: docopt is being installed using the legacy 'setup.py install' method, because it does not have a 'pyproject.toml' and the 'wheel' package is not installed. pip 23.1 will enforce this behaviour change. A possible replacement is to enable the '--use-pep517' option. Discussion can be found at https://github.com/pypa/pip/issues/8559\n",
      "\n",
      "[notice] A new release of pip available: 22.3.1 -> 24.1.2\n",
      "[notice] To update, run: python.exe -m pip install --upgrade pip\n"
     ]
    }
   ],
   "source": [
    "!pip install internetarchive"
   ]
  },
  {
   "cell_type": "code",
   "execution_count": 14,
   "metadata": {},
   "outputs": [
    {
     "name": "stdout",
     "output_type": "stream",
     "text": [
      "identifier: 01-three-kingdoms-193004\n",
      "Downloading item with identifier: 01-three-kingdoms-193004\n"
     ]
    },
    {
     "name": "stderr",
     "output_type": "stream",
     "text": [
      "01-three-kingdoms-193004:\n",
      " downloading 增像全圖三國演義 六十卷,一二0回1_(明)羅貫中撰,(清)金聖嘆,(清)毛宗崗評_djvu.txt: 100%|██████████| 19.5k/19.5k [00:00<00:00, 9.96MiB/s]\n"
     ]
    },
    {
     "name": "stdout",
     "output_type": "stream",
     "text": [
      "identifier: 020-three-kingdoms-193004\n",
      "Downloading item with identifier: 020-three-kingdoms-193004\n"
     ]
    },
    {
     "name": "stderr",
     "output_type": "stream",
     "text": [
      "020-three-kingdoms-193004:\n",
      " downloading New Folder/增像全圖三國演義 六十卷,一二0回10_(明)羅貫中撰,(清)金聖嘆,(清)毛宗崗評_djvu.txt: 100%|██████████| 43.8k/43.8k [00:00<00:00, 272kiB/s]\n",
      " downloading 增像全圖三國演義 六十卷,一二0回10_(明)羅貫中撰,(清)金聖嘆,(清)毛宗崗評_djvu.txt: 43.8kiB [00:00, 1.87MiB/s]\n",
      " downloading 增像全圖三國演義 六十卷,一二0回11_(明)羅貫中撰,(清)金聖嘆,(清)毛宗崗評_djvu.txt: 37.4kiB [00:00, 2.12MiB/s]\n",
      " downloading 增像全圖三國演義 六十卷,一二0回12_(明)羅貫中撰,(清)金聖嘆,(清)毛宗崗評_djvu.txt: 100%|██████████| 37.0k/37.0k [00:00<00:00, 9.46MiB/s]\n",
      " downloading 增像全圖三國演義 六十卷,一二0回13_(明)羅貫中撰,(清)金聖嘆,(清)毛宗崗評_djvu.txt: 100%|██████████| 41.4k/41.4k [00:00<00:00, 16.8MiB/s]\n",
      " downloading 增像全圖三國演義 六十卷,一二0回14_(明)羅貫中撰,(清)金聖嘆,(清)毛宗崗評_djvu.txt: 100%|██████████| 28.2k/28.2k [00:00<00:00, 14.5MiB/s]\n",
      " downloading 增像全圖三國演義 六十卷,一二0回15_(明)羅貫中撰,(清)金聖嘆,(清)毛宗崗評_djvu.txt: 100%|██████████| 60.9k/60.9k [00:00<00:00, 364kiB/s]\n",
      " downloading 增像全圖三國演義 六十卷,一二0回16_(明)羅貫中撰,(清)金聖嘆,(清)毛宗崗評_djvu.txt: 29.7kiB [00:00, 6.78MiB/s]\n",
      " downloading 增像全圖三國演義 六十卷,一二0回17_(明)羅貫中撰,(清)金聖嘆,(清)毛宗崗評_djvu.txt: 100%|██████████| 42.4k/42.4k [00:00<00:00, 11.0MiB/s]\n",
      " downloading 增像全圖三國演義 六十卷,一二0回18_(明)羅貫中撰,(清)金聖嘆,(清)毛宗崗評_djvu.txt: 100%|██████████| 42.3k/42.3k [00:00<00:00, 13.3MiB/s]\n",
      " downloading 增像全圖三國演義 六十卷,一二0回19_(明)羅貫中撰,(清)金聖嘆,(清)毛宗崗評_djvu.txt: 28.5kiB [00:00, 7.26MiB/s]\n",
      " downloading 增像全圖三國演義 六十卷,一二0回1_(明)羅貫中撰,(清)金聖嘆,(清)毛宗崗評_djvu.txt: 100%|██████████| 19.5k/19.5k [00:00<00:00, 10.0MiB/s]\n",
      " downloading 增像全圖三國演義 六十卷,一二0回20_(明)羅貫中撰,(清)金聖嘆,(清)毛宗崗評_djvu.txt: 100%|██████████| 28.1k/28.1k [00:00<00:00, 6.46MiB/s]\n",
      " downloading 增像全圖三國演義 六十卷,一二0回2_(明)羅貫中撰,(清)金聖嘆,(清)毛宗崗評_djvu.txt: 100%|██████████| 14.0k/14.0k [00:00<00:00, 4.26MiB/s]\n",
      " downloading 增像全圖三國演義 六十卷,一二0回3_(明)羅貫中撰,(清)金聖嘆,(清)毛宗崗評_djvu.txt: 12.5kiB [00:00, 3.89MiB/s]\n",
      " downloading 增像全圖三國演義 六十卷,一二0回4_(明)羅貫中撰,(清)金聖嘆,(清)毛宗崗評_djvu.txt: 100%|██████████| 25.5k/25.5k [00:00<00:00, 13.1MiB/s]\n",
      " downloading 增像全圖三國演義 六十卷,一二0回5_(明)羅貫中撰,(清)金聖嘆,(清)毛宗崗評_djvu.txt: 100%|██████████| 24.2k/24.2k [00:00<00:00, 7.05MiB/s]\n",
      " downloading 增像全圖三國演義 六十卷,一二0回6_(明)羅貫中撰,(清)金聖嘆,(清)毛宗崗評_djvu.txt: 100%|██████████| 46.2k/46.2k [00:00<00:00, 284kiB/s]\n",
      " downloading 增像全圖三國演義 六十卷,一二0回7_(明)羅貫中撰,(清)金聖嘆,(清)毛宗崗評_djvu.txt: 100%|██████████| 38.6k/38.6k [00:00<00:00, 15.7MiB/s]\n",
      " downloading 增像全圖三國演義 六十卷,一二0回8_(明)羅貫中撰,(清)金聖嘆,(清)毛宗崗評_djvu.txt: 100%|██████████| 46.4k/46.4k [00:00<00:00, 261kiB/s]\n",
      " downloading 增像全圖三國演義 六十卷,一二0回9_(明)羅貫中撰,(清)金聖嘆,(清)毛宗崗評_djvu.txt: 100%|██████████| 42.7k/42.7k [00:00<00:00, 14.6MiB/s]\n"
     ]
    },
    {
     "name": "stdout",
     "output_type": "stream",
     "text": [
      "identifier: romance-of-the-three-kingdoms-ebook\n",
      "Downloading item with identifier: romance-of-the-three-kingdoms-ebook\n"
     ]
    },
    {
     "name": "stderr",
     "output_type": "stream",
     "text": [
      "romance-of-the-three-kingdoms-ebook:\n",
      " downloading Romance of the Three Kingdoms - Luo Guanzhong (RotTK EPP v1.2.2)_djvu.txt: 3.19MiB [00:01, 3.14MiB/s]\n"
     ]
    }
   ],
   "source": [
    "from internetarchive import search_items, download\n",
    "\n",
    "# 搜索特定標題或主題的項目\n",
    "# search_results = search_items('title:\"The Art of War\" AND mediatype:texts')\n",
    "search_results = search_items('title:\"三國演義\" AND mediatype:texts')\n",
    "\n",
    "# 迭代搜索結果\n",
    "for result in search_results:\n",
    "    identifier = result['identifier']\n",
    "    print(f'Downloading item with identifier: {identifier}')\n",
    "    \n",
    "    # 下載每個結果的檔案\n",
    "    download(destdir='./dest', identifier=identifier, verbose=True, glob_pattern='*.txt')\n",
    "    \n"
   ]
  },
  {
   "cell_type": "code",
   "execution_count": null,
   "metadata": {},
   "outputs": [],
   "source": []
  }
 ],
 "metadata": {
  "kernelspec": {
   "display_name": "venv",
   "language": "python",
   "name": "python3"
  },
  "language_info": {
   "codemirror_mode": {
    "name": "ipython",
    "version": 3
   },
   "file_extension": ".py",
   "mimetype": "text/x-python",
   "name": "python",
   "nbconvert_exporter": "python",
   "pygments_lexer": "ipython3",
   "version": "3.10.9"
  }
 },
 "nbformat": 4,
 "nbformat_minor": 2
}
