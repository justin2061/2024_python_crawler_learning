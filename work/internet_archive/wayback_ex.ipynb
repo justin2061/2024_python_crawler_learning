{
 "cells": [
  {
   "cell_type": "code",
   "execution_count": 1,
   "metadata": {},
   "outputs": [
    {
     "name": "stdout",
     "output_type": "stream",
     "text": [
      "Looking in indexes: https://pypi.org/simple, https://pypi.ngc.nvidia.com\n",
      "Requirement already satisfied: waybackpy in d:\\github\\2024_python_crawler_learning\\venv\\lib\\site-packages (3.0.6)\n",
      "Requirement already satisfied: urllib3 in d:\\github\\2024_python_crawler_learning\\venv\\lib\\site-packages (from waybackpy) (1.26.16)\n",
      "Requirement already satisfied: requests in d:\\github\\2024_python_crawler_learning\\venv\\lib\\site-packages (from waybackpy) (2.32.3)\n",
      "Requirement already satisfied: click in d:\\github\\2024_python_crawler_learning\\venv\\lib\\site-packages (from waybackpy) (8.1.7)\n",
      "Requirement already satisfied: colorama in d:\\github\\2024_python_crawler_learning\\venv\\lib\\site-packages (from click->waybackpy) (0.4.6)\n",
      "Requirement already satisfied: certifi>=2017.4.17 in d:\\github\\2024_python_crawler_learning\\venv\\lib\\site-packages (from requests->waybackpy) (2023.5.7)\n",
      "Requirement already satisfied: idna<4,>=2.5 in d:\\github\\2024_python_crawler_learning\\venv\\lib\\site-packages (from requests->waybackpy) (3.4)\n",
      "Requirement already satisfied: charset-normalizer<4,>=2 in d:\\github\\2024_python_crawler_learning\\venv\\lib\\site-packages (from requests->waybackpy) (2.1.1)\n"
     ]
    },
    {
     "name": "stderr",
     "output_type": "stream",
     "text": [
      "\n",
      "[notice] A new release of pip available: 22.3.1 -> 24.2\n",
      "[notice] To update, run: python.exe -m pip install --upgrade pip\n"
     ]
    }
   ],
   "source": [
    "!pip install waybackpy"
   ]
  },
  {
   "cell_type": "code",
   "execution_count": 2,
   "metadata": {},
   "outputs": [
    {
     "name": "stdout",
     "output_type": "stream",
     "text": [
      "Looking in indexes: https://pypi.org/simple, https://pypi.ngc.nvidia.com\n",
      "Requirement already satisfied: beautifulsoup4 in d:\\github\\2024_python_crawler_learning\\venv\\lib\\site-packages (4.11.1)\n",
      "Requirement already satisfied: soupsieve>1.2 in d:\\github\\2024_python_crawler_learning\\venv\\lib\\site-packages (from beautifulsoup4) (2.4.1)\n"
     ]
    },
    {
     "name": "stderr",
     "output_type": "stream",
     "text": [
      "\n",
      "[notice] A new release of pip available: 22.3.1 -> 24.2\n",
      "[notice] To update, run: python.exe -m pip install --upgrade pip\n"
     ]
    }
   ],
   "source": [
    "!pip install beautifulsoup4"
   ]
  },
  {
   "cell_type": "code",
   "execution_count": 3,
   "metadata": {},
   "outputs": [],
   "source": [
    "from waybackpy import WaybackMachineCDXServerAPI\n",
    "from waybackpy import WaybackMachineSaveAPI\n",
    "import requests, os, sys, json, time\n",
    "import random\n",
    "from bs4 import BeautifulSoup\n",
    "import datetime"
   ]
  },
  {
   "cell_type": "code",
   "execution_count": 4,
   "metadata": {},
   "outputs": [],
   "source": [
    "# 使用Wayback Machine的CDX Server API查找mojim.com的歷史快照\n",
    "def find_snapshots(domain, start_date=None, end_date=None):\n",
    "    user_agent = 'Mozilla/5.0 (Windows NT 10.0; Win64; x64) AppleWebKit/537.36 (KHTML, like Gecko) Chrome/58.0.3029.110 Safari/537.36'\n",
    "    cdx_api = WaybackMachineCDXServerAPI(domain, user_agent, start_timestamp=start_date, end_timestamp=end_date)\n",
    "    snapshots = list(cdx_api.snapshots())\n",
    "    return snapshots\n",
    "\n",
    "# 下載特定快照\n",
    "def download_snapshot(snapshot_url, output_file):\n",
    "    response = requests.get(snapshot_url)\n",
    "    with open(output_file, 'wb') as file:\n",
    "        file.write(response.content)\n",
    "\n",
    "# 使用beautifulsoup解析HTML\n",
    "def parse_html(html_file, css_selector):\n",
    "    with open(html_file, 'r') as file:\n",
    "        soup = BeautifulSoup(file, 'html.parser')\n",
    "        print(soup.prettify())\n",
    "        elememts = soup.find_all(css_selector)\n",
    "        return elememts"
   ]
  },
  {
   "cell_type": "code",
   "execution_count": 8,
   "metadata": {},
   "outputs": [
    {
     "name": "stdout",
     "output_type": "stream",
     "text": [
      "[1] Timestamp: 20220111153919, URL: https://web.archive.org/web/20220111153919/http://www.mojim.com/\n",
      "Downloaded snapshot to ./wayback_archive/mojim.com/mojim.com_20220111153919_snapshot.html\n",
      "sleeping for 5 seconds\n",
      "[2] Timestamp: 20220117052530, URL: https://web.archive.org/web/20220117052530/http://mojim.com/\n",
      "Downloaded snapshot to ./wayback_archive/mojim.com/mojim.com_20220117052530_snapshot.html\n",
      "sleeping for 7 seconds\n",
      "[3] Timestamp: 20220117091940, URL: https://web.archive.org/web/20220117091940/http://mojim.com/\n",
      "Downloaded snapshot to ./wayback_archive/mojim.com/mojim.com_20220117091940_snapshot.html\n",
      "sleeping for 7 seconds\n",
      "[4] Timestamp: 20220117154852, URL: https://web.archive.org/web/20220117154852/http://mojim.com/\n",
      "Downloaded snapshot to ./wayback_archive/mojim.com/mojim.com_20220117154852_snapshot.html\n",
      "sleeping for 8 seconds\n",
      "[5] Timestamp: 20220118011507, URL: https://web.archive.org/web/20220118011507/http://mojim.com/\n",
      "Downloaded snapshot to ./wayback_archive/mojim.com/mojim.com_20220118011507_snapshot.html\n",
      "sleeping for 8 seconds\n",
      "[6] Timestamp: 20220118073912, URL: https://web.archive.org/web/20220118073912/http://mojim.com/\n",
      "Downloaded snapshot to ./wayback_archive/mojim.com/mojim.com_20220118073912_snapshot.html\n",
      "sleeping for 8 seconds\n",
      "[7] Timestamp: 20220118134617, URL: https://web.archive.org/web/20220118134617/http://mojim.com/\n",
      "Downloaded snapshot to ./wayback_archive/mojim.com/mojim.com_20220118134617_snapshot.html\n",
      "sleeping for 8 seconds\n",
      "[8] Timestamp: 20220118162732, URL: https://web.archive.org/web/20220118162732/http://mojim.com/\n",
      "Downloaded snapshot to ./wayback_archive/mojim.com/mojim.com_20220118162732_snapshot.html\n",
      "sleeping for 7 seconds\n",
      "[9] Timestamp: 20220119054648, URL: https://web.archive.org/web/20220119054648/http://mojim.com/\n",
      "Downloaded snapshot to ./wayback_archive/mojim.com/mojim.com_20220119054648_snapshot.html\n",
      "sleeping for 8 seconds\n",
      "[10] Timestamp: 20220119085724, URL: https://web.archive.org/web/20220119085724/http://mojim.com/\n",
      "Downloaded snapshot to ./wayback_archive/mojim.com/mojim.com_20220119085724_snapshot.html\n",
      "sleeping for 5 seconds\n",
      "[11] Timestamp: 20220119101421, URL: https://web.archive.org/web/20220119101421/http://mojim.com/\n",
      "Downloaded snapshot to ./wayback_archive/mojim.com/mojim.com_20220119101421_snapshot.html\n",
      "sleeping for 5 seconds\n",
      "[12] Timestamp: 20220119165807, URL: https://web.archive.org/web/20220119165807/http://www3.mojim.com/\n",
      "Downloaded snapshot to ./wayback_archive/mojim.com/mojim.com_20220119165807_snapshot.html\n",
      "sleeping for 8 seconds\n",
      "[13] Timestamp: 20220119195943, URL: https://web.archive.org/web/20220119195943/https://mojim.com/\n",
      "Downloaded snapshot to ./wayback_archive/mojim.com/mojim.com_20220119195943_snapshot.html\n",
      "sleeping for 5 seconds\n",
      "[14] Timestamp: 20220120052225, URL: https://web.archive.org/web/20220120052225/http://mojim.com/\n",
      "Downloaded snapshot to ./wayback_archive/mojim.com/mojim.com_20220120052225_snapshot.html\n",
      "sleeping for 8 seconds\n",
      "[15] Timestamp: 20220121082906, URL: https://web.archive.org/web/20220121082906/http://mojim.com/\n",
      "Downloaded snapshot to ./wayback_archive/mojim.com/mojim.com_20220121082906_snapshot.html\n",
      "sleeping for 5 seconds\n",
      "[16] Timestamp: 20220121125117, URL: https://web.archive.org/web/20220121125117/http://mojim.com/\n",
      "Downloaded snapshot to ./wayback_archive/mojim.com/mojim.com_20220121125117_snapshot.html\n",
      "sleeping for 6 seconds\n",
      "[17] Timestamp: 20220121145417, URL: https://web.archive.org/web/20220121145417/http://mojim.com/\n",
      "Downloaded snapshot to ./wayback_archive/mojim.com/mojim.com_20220121145417_snapshot.html\n",
      "sleeping for 8 seconds\n",
      "[18] Timestamp: 20220121234011, URL: https://web.archive.org/web/20220121234011/http://mojim.com/\n",
      "Downloaded snapshot to ./wayback_archive/mojim.com/mojim.com_20220121234011_snapshot.html\n",
      "sleeping for 8 seconds\n",
      "[19] Timestamp: 20220122080346, URL: https://web.archive.org/web/20220122080346/http://mojim.com/\n",
      "Downloaded snapshot to ./wayback_archive/mojim.com/mojim.com_20220122080346_snapshot.html\n",
      "sleeping for 6 seconds\n",
      "[20] Timestamp: 20220123004743, URL: https://web.archive.org/web/20220123004743/http://mojim.com/\n",
      "Error: HTTPSConnectionPool(host='web.archive.org', port=443): Max retries exceeded with url: /web/20220123004743/http://mojim.com/ (Caused by NewConnectionError('<urllib3.connection.HTTPSConnection object at 0x000001BC67DA35E0>: Failed to establish a new connection: [WinError 10061] 無法連線，因為目標電腦拒絕連線。'))\n",
      "Error:  20220123004743\n"
     ]
    }
   ],
   "source": [
    "# 示例：查找mojim.com的歷史快照\n",
    "domain = 'mojim.com'\n",
    "end_year = datetime.datetime.now().strftime('%Y') \n",
    "start_year = str(int(end_year) - 2)\n",
    "snapshots = find_snapshots(domain, start_date=start_year, end_date=end_year)\n",
    "\n",
    "# 打印找到的快照信息\n",
    "i=1\n",
    "for snapshot in snapshots:\n",
    "    print(f\"[{i}] Timestamp: {snapshot.timestamp}, URL: {snapshot.archive_url}\")\n",
    "    try:\n",
    "        snapshot_url = snapshot.archive_url\n",
    "        output_folder = f'./wayback_archive/{domain}'\n",
    "        os.makedirs(output_folder, exist_ok=True)\n",
    "        output_file = f'{output_folder}/{domain}_{snapshot.timestamp}_snapshot.html'\n",
    "        download_snapshot(snapshot_url, output_file)\n",
    "        print(f\"Downloaded snapshot to {output_file}\")\n",
    "        sleep_time = random.randint(5, 8)\n",
    "        time.sleep(sleep_time)\n",
    "        print(f\"sleeping for {sleep_time} seconds\")\n",
    "        i+=1\n",
    "    except Exception as e:\n",
    "        print(f\"Error: {e}\")\n",
    "        print(\"Error: \", snapshot.timestamp)\n",
    "        break"
   ]
  },
  {
   "cell_type": "code",
   "execution_count": 13,
   "metadata": {},
   "outputs": [
    {
     "name": "stdout",
     "output_type": "stream",
     "text": [
      "[1] Timestamp: 20220609195208, URL: https://web.archive.org/web/20220609195208/https://www.dgpa.gov.tw/typh/daily/nds.html\n",
      "Downloaded snapshot to ./wayback_archive/www.dgpa.gov.tw/www.dgpa.gov.tw_20220609195208_snapshot.html\n",
      "sleeping for 7 seconds\n",
      "[2] Timestamp: 20220615142612, URL: https://web.archive.org/web/20220615142612/https://www.dgpa.gov.tw/typh/daily/nds.html\n",
      "Downloaded snapshot to ./wayback_archive/www.dgpa.gov.tw/www.dgpa.gov.tw_20220615142612_snapshot.html\n",
      "sleeping for 6 seconds\n",
      "[3] Timestamp: 20220725074627, URL: https://web.archive.org/web/20220725074627/http://www.dgpa.gov.tw/typh/daily/nds.html\n",
      "Downloaded snapshot to ./wayback_archive/www.dgpa.gov.tw/www.dgpa.gov.tw_20220725074627_snapshot.html\n",
      "sleeping for 6 seconds\n",
      "[4] Timestamp: 20220902080556, URL: https://web.archive.org/web/20220902080556/https://www.dgpa.gov.tw/typh/daily/nds.html\n",
      "Downloaded snapshot to ./wayback_archive/www.dgpa.gov.tw/www.dgpa.gov.tw_20220902080556_snapshot.html\n",
      "sleeping for 6 seconds\n",
      "[5] Timestamp: 20220902081109, URL: https://web.archive.org/web/20220902081109/https://www.dgpa.gov.tw/typh/daily/nds.html\n",
      "Downloaded snapshot to ./wayback_archive/www.dgpa.gov.tw/www.dgpa.gov.tw_20220902081109_snapshot.html\n",
      "sleeping for 6 seconds\n",
      "[6] Timestamp: 20220902230613, URL: https://web.archive.org/web/20220902230613/https://www.dgpa.gov.tw/typh/daily/nds.html\n",
      "Downloaded snapshot to ./wayback_archive/www.dgpa.gov.tw/www.dgpa.gov.tw_20220902230613_snapshot.html\n",
      "sleeping for 6 seconds\n",
      "[7] Timestamp: 20220903113358, URL: https://web.archive.org/web/20220903113358/https://www.dgpa.gov.tw/typh/daily/nds.html\n",
      "Downloaded snapshot to ./wayback_archive/www.dgpa.gov.tw/www.dgpa.gov.tw_20220903113358_snapshot.html\n",
      "sleeping for 7 seconds\n",
      "[8] Timestamp: 20220903113945, URL: https://web.archive.org/web/20220903113945/https://www.dgpa.gov.tw/typh/daily/nds.html\n",
      "Downloaded snapshot to ./wayback_archive/www.dgpa.gov.tw/www.dgpa.gov.tw_20220903113945_snapshot.html\n",
      "sleeping for 5 seconds\n",
      "[9] Timestamp: 20220903114000, URL: https://web.archive.org/web/20220903114000/https://www.dgpa.gov.tw/typh/daily/nds.html\n",
      "Downloaded snapshot to ./wayback_archive/www.dgpa.gov.tw/www.dgpa.gov.tw_20220903114000_snapshot.html\n",
      "sleeping for 8 seconds\n",
      "[10] Timestamp: 20220903160754, URL: https://web.archive.org/web/20220903160754/https://www.dgpa.gov.tw/typh/daily/nds.html\n",
      "Downloaded snapshot to ./wayback_archive/www.dgpa.gov.tw/www.dgpa.gov.tw_20220903160754_snapshot.html\n",
      "sleeping for 5 seconds\n",
      "[11] Timestamp: 20220904132133, URL: https://web.archive.org/web/20220904132133/https://www.dgpa.gov.tw/typh/daily/nds.html\n",
      "Downloaded snapshot to ./wayback_archive/www.dgpa.gov.tw/www.dgpa.gov.tw_20220904132133_snapshot.html\n",
      "sleeping for 7 seconds\n",
      "[12] Timestamp: 20221015212930, URL: https://web.archive.org/web/20221015212930/https://www.dgpa.gov.tw/typh/daily/nds.html\n",
      "Downloaded snapshot to ./wayback_archive/www.dgpa.gov.tw/www.dgpa.gov.tw_20221015212930_snapshot.html\n",
      "sleeping for 8 seconds\n",
      "[13] Timestamp: 20221016103619, URL: https://web.archive.org/web/20221016103619/https://www.dgpa.gov.tw/typh/daily/nds.html\n",
      "Downloaded snapshot to ./wayback_archive/www.dgpa.gov.tw/www.dgpa.gov.tw_20221016103619_snapshot.html\n",
      "sleeping for 6 seconds\n",
      "[14] Timestamp: 20221016105145, URL: https://web.archive.org/web/20221016105145/https://www.dgpa.gov.tw/typh/daily/nds.html\n",
      "Downloaded snapshot to ./wayback_archive/www.dgpa.gov.tw/www.dgpa.gov.tw_20221016105145_snapshot.html\n",
      "sleeping for 8 seconds\n",
      "[15] Timestamp: 20221016113820, URL: https://web.archive.org/web/20221016113820/https://www.dgpa.gov.tw/typh/daily/nds.html\n",
      "Downloaded snapshot to ./wayback_archive/www.dgpa.gov.tw/www.dgpa.gov.tw_20221016113820_snapshot.html\n",
      "sleeping for 5 seconds\n",
      "[16] Timestamp: 20221016123400, URL: https://web.archive.org/web/20221016123400/https://www.dgpa.gov.tw/typh/daily/nds.html\n",
      "Downloaded snapshot to ./wayback_archive/www.dgpa.gov.tw/www.dgpa.gov.tw_20221016123400_snapshot.html\n",
      "sleeping for 8 seconds\n",
      "[17] Timestamp: 20221016123919, URL: https://web.archive.org/web/20221016123919/https://www.dgpa.gov.tw/typh/daily/nds.html\n",
      "Error: HTTPSConnectionPool(host='web.archive.org', port=443): Max retries exceeded with url: /web/20221016123919/https://www.dgpa.gov.tw/typh/daily/nds.html (Caused by NewConnectionError('<urllib3.connection.HTTPSConnection object at 0x000001FF53D71AB0>: Failed to establish a new connection: [WinError 10061] 無法連線，因為目標電腦拒絕連線。'))\n",
      "Error:  20221016123919\n"
     ]
    }
   ],
   "source": [
    "# 示例：查找https://www.dgpa.gov.tw/typh/daily/nds.html的歷史快照\n",
    "domain = 'www.dgpa.gov.tw'\n",
    "page = '/typh/daily/nds.html'\n",
    "url = f'https://{domain}{page}'\n",
    "end_year = datetime.datetime.now().strftime('%Y') \n",
    "start_year = str(int(end_year) - 2)\n",
    "snapshots = find_snapshots(url, start_date=start_year, end_date=end_year)\n",
    "\n",
    "# 打印找到的快照信息\n",
    "i=1\n",
    "for snapshot in snapshots:\n",
    "    print(f\"[{i}] Timestamp: {snapshot.timestamp}, URL: {snapshot.archive_url}\")\n",
    "    try:\n",
    "        snapshot_url = snapshot.archive_url\n",
    "        output_folder = f'./wayback_archive/{domain}'\n",
    "        os.makedirs(output_folder, exist_ok=True)\n",
    "        output_file = f'{output_folder}/{domain}_{snapshot.timestamp}_snapshot.html'\n",
    "        download_snapshot(snapshot_url, output_file)\n",
    "        print(f\"Downloaded snapshot to {output_file}\")\n",
    "        sleep_time = random.randint(5, 8)\n",
    "        time.sleep(sleep_time)\n",
    "        print(f\"sleeping for {sleep_time} seconds\")\n",
    "        i+=1\n",
    "    except Exception as e:\n",
    "        print(f\"Error: {e}\")\n",
    "        print(\"Error: \", snapshot.timestamp)\n",
    "        break"
   ]
  },
  {
   "cell_type": "code",
   "execution_count": null,
   "metadata": {},
   "outputs": [],
   "source": []
  }
 ],
 "metadata": {
  "kernelspec": {
   "display_name": "venv",
   "language": "python",
   "name": "python3"
  },
  "language_info": {
   "codemirror_mode": {
    "name": "ipython",
    "version": 3
   },
   "file_extension": ".py",
   "mimetype": "text/x-python",
   "name": "python",
   "nbconvert_exporter": "python",
   "pygments_lexer": "ipython3",
   "version": "3.10.9"
  }
 },
 "nbformat": 4,
 "nbformat_minor": 2
}
