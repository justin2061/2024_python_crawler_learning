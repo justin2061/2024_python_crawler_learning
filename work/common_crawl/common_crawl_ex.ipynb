{
 "cells": [
  {
   "cell_type": "code",
   "execution_count": 16,
   "metadata": {},
   "outputs": [
    {
     "name": "stdout",
     "output_type": "stream",
     "text": [
      "Looking in indexes: https://pypi.org/simple, https://pypi.ngc.nvidia.com\n",
      "Collecting warcio\n",
      "  Downloading warcio-1.7.4-py2.py3-none-any.whl (40 kB)\n",
      "     ---------------------------------------- 40.2/40.2 kB 2.0 MB/s eta 0:00:00\n",
      "Requirement already satisfied: six in d:\\github\\2024_python_crawler_learning\\venv\\lib\\site-packages (from warcio) (1.16.0)\n",
      "Installing collected packages: warcio\n",
      "Successfully installed warcio-1.7.4\n"
     ]
    },
    {
     "name": "stderr",
     "output_type": "stream",
     "text": [
      "\n",
      "[notice] A new release of pip available: 22.3.1 -> 24.1.2\n",
      "[notice] To update, run: python.exe -m pip install --upgrade pip\n"
     ]
    }
   ],
   "source": [
    "!pip install warcio"
   ]
  },
  {
   "cell_type": "code",
   "execution_count": 49,
   "metadata": {},
   "outputs": [],
   "source": [
    "from warcio.archiveiterator import ArchiveIterator\n",
    "from gzip import GzipFile\n",
    "import requests\n"
   ]
  },
  {
   "cell_type": "code",
   "execution_count": 74,
   "metadata": {},
   "outputs": [],
   "source": [
    "# 要下載的 WARC 文件的 URL\n",
    "warc_url = 'https://data.commoncrawl.org/crawl-data/CC-MAIN-2024-26/segments/1718198861173.16/warc/CC-MAIN-20240612140424-20240612170424-00000.warc.gz'"
   ]
  },
  {
   "cell_type": "code",
   "execution_count": 77,
   "metadata": {},
   "outputs": [
    {
     "name": "stdout",
     "output_type": "stream",
     "text": [
      "http://0.pembrokeconcrete.com/cert/\n",
      "HTTP/1.1 200 OK\n",
      "Server: nginx\n",
      "Date: Wed, 12 Jun 2024 14:22:10 GMT\n",
      "Content-Type: text/html; charset=utf-8; charset=utf-8\n",
      "X-Crawler-Transfer-Encoding: chunked\n",
      "Connection: keep-alive\n",
      "Vary: Accept-Encoding\n",
      "X-Crawler-Content-Encoding: gzip\n",
      "Content-Length: 19961\n",
      "\n",
      "<!DOCTYPE html PUBLIC \"-//W3C//DTD XHTML 1.0 Transitional//EN\" \"http://www.w3.org/TR/xhtml1/DTD/xhtml1-transitional.dtd\">\n",
      "<html xmlns=\"http://www.w3.org/1999/xhtml\"><head>\n",
      "<meta name=\"applicable-device\" content=\"pc,mobile\"/>\n",
      "<meta name=\"viewport\" content=\"width=device-width, initial-scale=1.0, user-scalable=0, minimum-scale=1.0, maximum-scale=1.0\">\n",
      "    <meta content=\"text/html; charset=utf-8\" http-equiv=\"Content-Type\"/>\n",
      "    <title>证书查询 - &#21313;&#22823;&#32593;&#32476;&#24425;&#31080;&#24179;&#21488;&#22823;&#20840;&#45;&#21313;&#22823;&#32593;&#32476;&#24425;&#31080;&#24179;&#21488;&#22823;&#20840;</title>\n",
      "    <meta content=\"证书查询\" name=\"keywords\"/>\n",
      "    <meta content=\"证书查询\" name=\"description\"/>\n",
      "    <link href=\"/static/home/css/sty.css?12345\" rel=\"stylesheet\" type=\"text/css\"/>\n",
      "    <link href=\"/static/home/dist/css/share.min.css\" rel=\"stylesheet\"/>\n",
      "    \t<script src=\"/static/common/jquery-1.12.1.min.js\" type=\"text/javascript\"></script>\n",
      "    <script src=\"/static/common/layui/layer.js\"></sc...\n"
     ]
    }
   ],
   "source": [
    "# 下載並打開 GZIP 壓縮的 WARC 文件\n",
    "response = requests.get(warc_url, stream=True)\n",
    "gzip_file = GzipFile(fileobj=response.raw)\n",
    "\n",
    "for record in ArchiveIterator(gzip_file):\n",
    "    if record.rec_type == 'response':\n",
    "        print(record.rec_headers.get_header('WARC-Target-URI'))\n",
    "        print(record.http_headers)\n",
    "        print(record.content_stream().read().decode('utf-8')[:1000] + '...')\n",
    "        break"
   ]
  },
  {
   "cell_type": "code",
   "execution_count": null,
   "metadata": {},
   "outputs": [],
   "source": []
  }
 ],
 "metadata": {
  "kernelspec": {
   "display_name": "venv",
   "language": "python",
   "name": "python3"
  },
  "language_info": {
   "codemirror_mode": {
    "name": "ipython",
    "version": 3
   },
   "file_extension": ".py",
   "mimetype": "text/x-python",
   "name": "python",
   "nbconvert_exporter": "python",
   "pygments_lexer": "ipython3",
   "version": "3.10.9"
  }
 },
 "nbformat": 4,
 "nbformat_minor": 2
}
