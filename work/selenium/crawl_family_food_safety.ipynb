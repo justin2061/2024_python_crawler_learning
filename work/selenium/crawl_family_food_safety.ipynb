{
 "cells": [
  {
   "cell_type": "code",
   "execution_count": 1,
   "id": "3b1f7f82-0ae3-44ef-adab-562e74fea656",
   "metadata": {},
   "outputs": [],
   "source": [
    "!pip install -q selenium==4.3.0"
   ]
  },
  {
   "cell_type": "code",
   "execution_count": 2,
   "id": "cac9151c-bca7-48c3-9c98-b197379236fd",
   "metadata": {},
   "outputs": [],
   "source": [
    "!pip install -q lxml==4.9.1"
   ]
  },
  {
   "cell_type": "code",
   "execution_count": 3,
   "id": "42f0f902-d0c3-4b93-a4d1-39968da2e74e",
   "metadata": {},
   "outputs": [],
   "source": [
    "!pip install -q beautifulsoup4==4.11.1"
   ]
  },
  {
   "cell_type": "code",
   "execution_count": 4,
   "id": "bc87866c-8f09-491f-aee0-7b0ecbeae6e9",
   "metadata": {},
   "outputs": [],
   "source": [
    "# !pip install -q mysql-connector-python==8.0.30"
   ]
  },
  {
   "cell_type": "code",
   "execution_count": 5,
   "id": "f01a36ee-3269-41a2-b717-bd9a87b63f78",
   "metadata": {},
   "outputs": [],
   "source": [
    "# !pip install -q sqlalchemy==1.4.39"
   ]
  },
  {
   "cell_type": "code",
   "execution_count": 6,
   "id": "0d156e7e-65f6-4085-be42-6ee7710a8938",
   "metadata": {},
   "outputs": [
    {
     "data": {
      "text/plain": [
       "'2.1.2'"
      ]
     },
     "execution_count": 6,
     "metadata": {},
     "output_type": "execute_result"
    }
   ],
   "source": [
    "!pip install -q backoff==2.1.2\n",
    "import backoff\n",
    "backoff.__version__"
   ]
  },
  {
   "cell_type": "code",
   "execution_count": 7,
   "id": "2719d3f3-6348-4e98-ac29-d3c565aedf5a",
   "metadata": {},
   "outputs": [],
   "source": [
    "!pip install -q pandas"
   ]
  },
  {
   "cell_type": "code",
   "execution_count": 8,
   "id": "5933a796-1c0c-4b35-b1f6-a92d15935c1e",
   "metadata": {},
   "outputs": [
    {
     "name": "stdout",
     "output_type": "stream",
     "text": [
      "Requirement already satisfied: python-dotenv in /opt/conda/lib/python3.11/site-packages (1.0.1)\n"
     ]
    }
   ],
   "source": [
    "!pip install python-dotenv"
   ]
  },
  {
   "cell_type": "code",
   "execution_count": 9,
   "id": "18b7296a-87f9-428e-9c69-44de3a2e120b",
   "metadata": {},
   "outputs": [],
   "source": [
    "from selenium import webdriver\n",
    "from selenium.webdriver.common.by import By\n",
    "from selenium.webdriver.support.ui import WebDriverWait\n",
    "from selenium.webdriver.support import expected_conditions as EC\n",
    "import selenium\n",
    "import time\n",
    "import random\n",
    "import re\n",
    "import sys\n",
    "from bs4 import BeautifulSoup\n",
    "import pandas as pd\n",
    "import backoff\n",
    "from datetime import datetime\n",
    "import logging\n",
    "from logging import handlers"
   ]
  },
  {
   "cell_type": "code",
   "execution_count": 10,
   "id": "51c00f81-53e6-4bbf-88c2-f32aa0deda36",
   "metadata": {},
   "outputs": [
    {
     "name": "stderr",
     "output_type": "stream",
     "text": [
      "2024-10-02 18:57:01 Asia [627094747] INFO [17] family_main logger ready...\n"
     ]
    }
   ],
   "source": [
    "#- 設定 logger\n",
    "logger = logging.getLogger('family_main')\n",
    "logger.setLevel(logging.INFO)\n",
    "\n",
    "log_format = logging.Formatter('%(asctime)s [%(module)s] %(levelname)s [%(lineno)d] %(message)s', '%Y-%m-%d %H:%M:%S %Z')\n",
    "\n",
    "th = handlers.TimedRotatingFileHandler(filename='app.log', when='D', backupCount=7, encoding='utf-8')\n",
    "th.setFormatter(log_format)\n",
    "th.setLevel(logging.INFO)\n",
    "logger.addHandler(th)\n",
    "\n",
    "ch = logging.StreamHandler()\n",
    "ch.setLevel(logging.INFO)\n",
    "ch.setFormatter(log_format)\n",
    "logger.addHandler(ch)\n",
    "\n",
    "logger.info('family_main logger ready...')"
   ]
  },
  {
   "cell_type": "code",
   "execution_count": 11,
   "id": "12664bf1-f9c6-4b25-8fd5-3af30d845823",
   "metadata": {},
   "outputs": [],
   "source": [
    "def set_ua():\n",
    "    user_agent = 'Mozilla/5.0 (Windows NT 10.0; Win64; x64) AppleWebKit/537.36 (KHTML, like Gecko) Chrome/103.0.0.0 Safari/537.36'\n",
    "    return user_agent"
   ]
  },
  {
   "cell_type": "code",
   "execution_count": 12,
   "id": "e9a1a84c-d37e-4a32-a1ba-7d920312f317",
   "metadata": {},
   "outputs": [],
   "source": [
    "def little_sleep(min=1, max=12):\n",
    "    sleep_time = random.randint(min,max)\n",
    "    logger.info(f'sleep time: {sleep_time}')\n",
    "    time.sleep(sleep_time)"
   ]
  },
  {
   "cell_type": "code",
   "execution_count": 13,
   "id": "6645023e-0017-413d-903e-f8b7d2fe8308",
   "metadata": {},
   "outputs": [],
   "source": [
    "@backoff.on_exception(backoff.expo,\n",
    "                        Exception, \n",
    "                      max_time=10)\n",
    "def chrome_init():\n",
    "    chrome_opt = webdriver.ChromeOptions()\n",
    "    chrome_opt.add_argument('--headless')\n",
    "    chrome_opt.add_argument('--no-sandbox')\n",
    "    chrome_opt.add_argument('--ignore-ssl-errors=yes')\n",
    "    chrome_opt.add_argument('--ignore-certificate-errors')\n",
    "    chrome_opt.add_argument(f'user-agent={set_ua()}')\n",
    "    # chrome_opt.add_argument(\"--incognito\")  # 使用無痕模式。用 selenium開瀏覽器已經很乾淨了，但疑心病重的可以用一下\n",
    "    try:\n",
    "        driver = webdriver.Remote(\n",
    "            command_executor='http://selenium-hub:4444/wd/hub',\n",
    "            options=chrome_opt\n",
    "        )\n",
    "    except Exception as e:\n",
    "        logger.error(f'chrome init error: {e}')\n",
    "        raise Exception(e)\n",
    "    return driver"
   ]
  },
  {
   "cell_type": "markdown",
   "id": "e21cb9a1-1434-434f-82ce-9ac77625ad6c",
   "metadata": {},
   "source": [
    "### 先到 https://foodsafety.family.com.tw 找一個商品"
   ]
  },
  {
   "cell_type": "code",
   "execution_count": 14,
   "id": "9f80e9d0-49f4-4eb3-ad95-1fc26aef8b03",
   "metadata": {},
   "outputs": [
    {
     "name": "stderr",
     "output_type": "stream",
     "text": [
      "2024-10-02 18:57:01 Asia [2404257831] INFO [4] url: https://foodsafety.family.com.tw/Web_FFD_2022/product/0612008\n"
     ]
    }
   ],
   "source": [
    "product_id = '0612008' #剛剛找到的商品id\n",
    "url = f'https://foodsafety.family.com.tw/Web_FFD_2022/product/{product_id}'\n",
    "# url = 'https://www.google.com'\n",
    "logger.info(f'url: {url}')\n",
    "\n"
   ]
  },
  {
   "cell_type": "code",
   "execution_count": 15,
   "id": "9d506e42",
   "metadata": {},
   "outputs": [],
   "source": [
    "driver = chrome_init()\n"
   ]
  },
  {
   "cell_type": "code",
   "execution_count": 16,
   "id": "eb566d74",
   "metadata": {},
   "outputs": [
    {
     "name": "stdout",
     "output_type": "stream",
     "text": [
      "title: 全家食在購安心\n",
      "<html><head>\n",
      "    <meta http-equiv=\"Content-Type\" content=\"text/html; charset=utf-8\">\n",
      "    <meta charset=\"utf-8\">\n",
      "    <meta name=\"viewport\" content=\"width=device-width, initial-scale=1.0\">\n",
      "    <title>全家食在購安心</title>\n",
      "    <meta name=\"author\" content=\"Family Co.,Ltd.\">\n",
      "    <meta name=\"copyright\" content=\"Copyright(c) ©Family Co.,Ltd.\">\n",
      "    <meta name=\"keywords\" content=\"全家,Family,Mart,食安,食在購安心\">\n",
      "    <meta name=\"description\" content=\"全家食在購安心 新鮮│健康│安心\">\n",
      "    <meta property=\"og:title\" content=\"全家食在購安心\">\n",
      "    <link href=\"https://fonts.googleapis.com/css2?family=Noto+Sans+TC:wght@400;500;700&amp;display=swap\" rel=\"stylesheet\">\n",
      "    <link href=\"/Web_FFD_2022/css/index.css?202309111\" rel=\"stylesheet\">\n",
      "    <!-- Global site tag (gtag.js) - Google Analytics -->\n",
      "    <script type=\"text/javascript\" async=\"\" src=\"https://www.googletagmanager.com/gtag/js?id=G-C8BC6KQ4PN&amp;l=dataLayer&amp;cx=c\"></script><script async=\"\" src=\"https://www.googletagmanager.com/gtag/js?id=G-MFRFWEK6Z7\"></script>\n",
      "    <script>\n",
      "        window.gaId = 'G-MFRFWEK6Z7'\n",
      "        window.gaConfig = {\n",
      "            send_page_view: false,\n",
      "            cookie_flags: 'secure;samesite=none',\n",
      "            page: '食在購安心',\n",
      "            cno: '(empty)'\n",
      "        }\n",
      "        window.dataLayer = window.dataLayer || [];\n",
      "        function gtag() { dataLayer.push(arguments); }\n",
      "        gtag('js', new Date());\n",
      "        gtag('config', gaId, gaConfig);\n",
      "    </script>\n",
      "</head>\n",
      "<body>\n",
      "    \n",
      "\n",
      "<div id=\"app\" data-root-url=\"/Web_FFD_2022/\" data-prod-img-url=\"https://foodsafety.family.com.tw/product_img/\" data-member=\"\" data-map-domain=\"https://stamp.family.com.tw/\"><div class=\"foodsafety-product\"><div class=\"fake\"><div class=\"fake__top\"></div><div class=\"fake__content\"></div></div></div><footer>本產品資訊文字及圖片皆為供應商提供，本公司僅提供平台刊登，相關商品標示資訊請以實際商品包裝標示為主。建議用chrome、IE11以上版本<br><span class=\"copy-right\">全家便利商店股份有限公司 Copyright © Copyright(c)2022FamilyMart All rights reserved.</span></footer><div class=\"loading\"><div class=\"lds-ring\"><div></div><div></div><div></div><div></div></div></div></div>\n",
      "    <script src=\"/Web_FFD_2022/js/bundle.js?20240416\"></script>\n",
      "\n",
      "\n",
      "</body></html>\n"
     ]
    }
   ],
   "source": [
    "driver.get(url)\n",
    "print(f'title: {driver.title}')\n",
    "html = driver.page_source\n",
    "#- print html\n",
    "print(html)\n",
    "#- 在這裡還是沒看到 render 後的 html"
   ]
  },
  {
   "cell_type": "code",
   "execution_count": 17,
   "id": "0a6a2aeb",
   "metadata": {},
   "outputs": [
    {
     "name": "stdout",
     "output_type": "stream",
     "text": [
      "elements html: <p>碳水化合物 <span>32</span> 公克</p><p>蛋白質 <span>5</span> 公克</p><p>脂肪 <span>4.3</span> 公克</p>\n",
      "p text: 碳水化合物\n",
      "32\n",
      "公克\n",
      "p text: 蛋白質\n",
      "5\n",
      "公克\n",
      "p text: 脂肪\n",
      "4.3\n",
      "公克\n"
     ]
    }
   ],
   "source": [
    "#- find element by css selector\n",
    "item_css_selector = '#app > div > div.container > div.resume-wrap > div:nth-child(1) > div.resume__info'\n",
    "#- wait for element to be loaded\n",
    "wait = WebDriverWait(driver, 10)\n",
    "elements = wait.until(lambda driver: driver.find_element(By.CSS_SELECTOR , item_css_selector))\n",
    "print(f\"elements html: {elements.get_attribute('innerHTML')}\")\n",
    "#- for all p elements in the div\n",
    "p_elements = elements.find_elements(By.TAG_NAME , 'p')\n",
    "for p in p_elements:\n",
    "    print(f\"p text: {p.text}\")"
   ]
  },
  {
   "cell_type": "code",
   "execution_count": 18,
   "id": "78ec1f20",
   "metadata": {},
   "outputs": [],
   "source": [
    "driver.close()\n",
    "driver.quit()"
   ]
  },
  {
   "cell_type": "code",
   "execution_count": 19,
   "id": "034e4be1",
   "metadata": {},
   "outputs": [
    {
     "name": "stdout",
     "output_type": "stream",
     "text": [
      "title: 全家食在購安心\n",
      "<html><head>\n",
      "    <meta http-equiv=\"Content-Type\" content=\"text/html; charset=utf-8\">\n",
      "    <meta charset=\"utf-8\">\n",
      "    <meta name=\"viewport\" content=\"width=device-width, initial-scale=1.0\">\n",
      "    <title>全家食在購安心</title>\n",
      "    <meta name=\"author\" content=\"Family Co.,Ltd.\">\n",
      "    <meta name=\"copyright\" content=\"Copyright(c) ©Family Co.,Ltd.\">\n",
      "    <meta name=\"keywords\" content=\"全家,Family,Mart,食安,食在購安心\">\n",
      "    <meta name=\"description\" content=\"全家食在購安心 新鮮│健康│安心\">\n",
      "    <meta property=\"og:title\" content=\"全家食在購安心\">\n",
      "    <link href=\"https://fonts.googleapis.com/css2?family=Noto+Sans+TC:wght@400;500;700&amp;display=swap\" rel=\"stylesheet\">\n",
      "    <link href=\"/Web_FFD_2022/css/index.css?202309111\" rel=\"stylesheet\">\n",
      "    <!-- Global site tag (gtag.js) - Google Analytics -->\n",
      "    <script type=\"text/javascript\" async=\"\" src=\"https://www.googletagmanager.com/gtag/js?id=G-C8BC6KQ4PN&amp;l=dataLayer&amp;cx=c\"></script><script async=\"\" src=\"https://www.googletagmanager.com/gtag/js?id=G-MFRFWEK6Z7\"></script>\n",
      "    <script>\n",
      "        window.gaId = 'G-MFRFWEK6Z7'\n",
      "        window.gaConfig = {\n",
      "            send_page_view: false,\n",
      "            cookie_flags: 'secure;samesite=none',\n",
      "            page: '食在購安心',\n",
      "            cno: '(empty)'\n",
      "        }\n",
      "        window.dataLayer = window.dataLayer || [];\n",
      "        function gtag() { dataLayer.push(arguments); }\n",
      "        gtag('js', new Date());\n",
      "        gtag('config', gaId, gaConfig);\n",
      "    </script>\n",
      "</head>\n",
      "<body>\n",
      "    \n",
      "\n",
      "<div id=\"app\" data-root-url=\"/Web_FFD_2022/\" data-prod-img-url=\"https://foodsafety.family.com.tw/product_img/\" data-member=\"\" data-map-domain=\"https://stamp.family.com.tw/\"><div class=\"foodsafety-product\"><div class=\"fake\"><div class=\"fake__top\"></div><div class=\"fake__content\"></div></div></div><footer>本產品資訊文字及圖片皆為供應商提供，本公司僅提供平台刊登，相關商品標示資訊請以實際商品包裝標示為主。建議用chrome、IE11以上版本<br><span class=\"copy-right\">全家便利商店股份有限公司 Copyright © Copyright(c)2022FamilyMart All rights reserved.</span></footer><div class=\"loading\"><div class=\"lds-ring\"><div></div><div></div><div></div><div></div></div></div></div>\n",
      "    <script src=\"/Web_FFD_2022/js/bundle.js?20240416\"></script>\n",
      "\n",
      "\n",
      "</body></html>\n"
     ]
    },
    {
     "name": "stderr",
     "output_type": "stream",
     "text": [
      "2024-10-02 18:57:06 Asia [2415837859] INFO [25] driver: <selenium.webdriver.remote.webdriver.WebDriver (session=\"6519b520f848d8c4885bbf04e3311d93\")>\n"
     ]
    },
    {
     "name": "stdout",
     "output_type": "stream",
     "text": [
      "elements html: <p>碳水化合物 <span>32</span> 公克</p><p>蛋白質 <span>5</span> 公克</p><p>脂肪 <span>4.3</span> 公克</p>\n",
      "p text: 碳水化合物\n",
      "32\n",
      "公克\n",
      "p text: 蛋白質\n",
      "5\n",
      "公克\n",
      "p text: 脂肪\n",
      "4.3\n",
      "公克\n"
     ]
    }
   ],
   "source": [
    "#- 合併成一個程式\n",
    "try:\n",
    "    driver = chrome_init()\n",
    "    driver.get(url)\n",
    "    print(f'title: {driver.title}')\n",
    "    html = driver.page_source\n",
    "    print(html)\n",
    "    #- find element by css selector\n",
    "    item_css_selector = '#app > div > div.container > div.resume-wrap > div:nth-child(1) > div.resume__info'\n",
    "    #- wait for element\n",
    "    wait = WebDriverWait(driver, 10)\n",
    "    elements = wait.until(lambda driver: driver.find_element(By.CSS_SELECTOR , item_css_selector))\n",
    "    print(f\"elements html: {elements.get_attribute('innerHTML')}\")\n",
    "    #- for all p elements in the div\n",
    "    p_elements = elements.find_elements(By.TAG_NAME , 'p')\n",
    "    for p in p_elements:\n",
    "        print(f\"p text: {p.text}\")\n",
    "\n",
    "except Exception as e:\n",
    "    logger.error(e)\n",
    "finally:\n",
    "    if driver is not None:\n",
    "        driver.close()\n",
    "        driver.quit()\n",
    "        logger.info(f'driver: {driver}')"
   ]
  },
  {
   "cell_type": "code",
   "execution_count": null,
   "id": "f315d911",
   "metadata": {},
   "outputs": [],
   "source": []
  }
 ],
 "metadata": {
  "kernelspec": {
   "display_name": "Python 3 (ipykernel)",
   "language": "python",
   "name": "python3"
  },
  "language_info": {
   "codemirror_mode": {
    "name": "ipython",
    "version": 3
   },
   "file_extension": ".py",
   "mimetype": "text/x-python",
   "name": "python",
   "nbconvert_exporter": "python",
   "pygments_lexer": "ipython3",
   "version": "3.11.6"
  }
 },
 "nbformat": 4,
 "nbformat_minor": 5
}
