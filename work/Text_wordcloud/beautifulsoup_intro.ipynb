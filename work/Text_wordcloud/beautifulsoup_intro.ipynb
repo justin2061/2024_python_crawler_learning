{
 "cells": [
  {
   "cell_type": "code",
   "execution_count": null,
   "metadata": {},
   "outputs": [],
   "source": [
    "!pip install beautifulsoup4"
   ]
  },
  {
   "cell_type": "code",
   "execution_count": null,
   "metadata": {},
   "outputs": [],
   "source": [
    "!pip install requests"
   ]
  },
  {
   "cell_type": "markdown",
   "metadata": {},
   "source": [
    "### BeautifulSoup 介紹\n",
    "- BeautifulSoup是一個用於從網頁中提取數據的Python庫，它使得網頁抓取（web scraping）變得更加簡單和高效\n",
    "- 通過解析HTML和XML文檔，創建一個可遍歷的解析樹，允許用戶輕鬆地搜索和修改文檔\n",
    "- BeautifulSoup支援Python標準庫中的HTML解析器，還支援一些第三方解析器，如lxml"
   ]
  },
  {
   "cell_type": "markdown",
   "metadata": {},
   "source": [
    "### BeautifulSoup的特點\n",
    "1. 易於使用：提供Pythonic的方式來處理HTML和XML。\n",
    "2. 靈活性：支援多種解析器，包括Python內置的html.parser、lxml和html5lib。\n",
    "3. 強大的搜索功能：可以通過標籤、屬性、文本等多種方式查找元素。"
   ]
  },
  {
   "cell_type": "code",
   "execution_count": 3,
   "metadata": {},
   "outputs": [],
   "source": [
    "url = 'https://udn.com/news/story/123777/8266151'"
   ]
  },
  {
   "cell_type": "markdown",
   "metadata": {},
   "source": [
    "### requests 取得網頁原始碼"
   ]
  },
  {
   "cell_type": "code",
   "execution_count": null,
   "metadata": {},
   "outputs": [],
   "source": [
    "import requests\n",
    "\n",
    "res = requests.get(url)\n",
    "print(f\"status code: {res.status_code}\")\n",
    "print(f\"response headers: {res.headers}\")\n",
    "print(f\"response body: {res.text}\")"
   ]
  },
  {
   "cell_type": "code",
   "execution_count": 5,
   "metadata": {},
   "outputs": [],
   "source": [
    "from bs4 import BeautifulSoup\n",
    "soup = BeautifulSoup(res.text, 'html.parser')"
   ]
  },
  {
   "cell_type": "markdown",
   "metadata": {},
   "source": [
    "### 格式化輸出HTML"
   ]
  },
  {
   "cell_type": "code",
   "execution_count": null,
   "metadata": {},
   "outputs": [],
   "source": [
    "print(soup.prettify())  # 格式化輸出HTML"
   ]
  },
  {
   "cell_type": "markdown",
   "metadata": {},
   "source": [
    "### 找所有段落標籤"
   ]
  },
  {
   "cell_type": "code",
   "execution_count": null,
   "metadata": {},
   "outputs": [],
   "source": [
    "#- 找所有段落標籤\n",
    "paragraphs = soup.find_all('p')\n",
    "for p in paragraphs:\n",
    "    print(p.get_text())"
   ]
  },
  {
   "cell_type": "markdown",
   "metadata": {},
   "source": [
    "### 使用 CSS 選擇器來查找元素"
   ]
  },
  {
   "cell_type": "code",
   "execution_count": null,
   "metadata": {},
   "outputs": [],
   "source": [
    "#- 使用 CSS 選擇器來查找元素\n",
    "title = soup.select('title')\n",
    "print(title[0].get_text())"
   ]
  },
  {
   "cell_type": "markdown",
   "metadata": {},
   "source": [
    "### 導航解析樹(DOM結構)"
   ]
  },
  {
   "cell_type": "code",
   "execution_count": 10,
   "metadata": {},
   "outputs": [
    {
     "name": "stdout",
     "output_type": "stream",
     "text": [
      "meta\n"
     ]
    }
   ],
   "source": [
    "#- 導航解析樹(DOM結構)\n",
    "title = soup.title\n",
    "print(title.parent.name)  # 輸出父元素的名稱"
   ]
  },
  {
   "cell_type": "markdown",
   "metadata": {},
   "source": [
    "### 修改解析樹(DOM)"
   ]
  },
  {
   "cell_type": "code",
   "execution_count": null,
   "metadata": {},
   "outputs": [],
   "source": [
    "#- 修改解析樹(DOM)\n",
    "#- 新增元素\n",
    "new_tag = soup.new_tag('b')\n",
    "new_tag.string = '這是新聞內容'\n",
    "soup.body.append(new_tag)\n",
    "print(soup.body)"
   ]
  },
  {
   "cell_type": "code",
   "execution_count": null,
   "metadata": {},
   "outputs": [],
   "source": []
  }
 ],
 "metadata": {
  "kernelspec": {
   "display_name": "Python 3 (ipykernel)",
   "language": "python",
   "name": "python3"
  },
  "language_info": {
   "codemirror_mode": {
    "name": "ipython",
    "version": 3
   },
   "file_extension": ".py",
   "mimetype": "text/x-python",
   "name": "python",
   "nbconvert_exporter": "python",
   "pygments_lexer": "ipython3",
   "version": "3.10.9"
  }
 },
 "nbformat": 4,
 "nbformat_minor": 4
}
