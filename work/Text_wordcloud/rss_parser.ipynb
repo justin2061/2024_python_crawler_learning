{
 "cells": [
  {
   "cell_type": "code",
   "execution_count": 1,
   "metadata": {},
   "outputs": [
    {
     "name": "stdout",
     "output_type": "stream",
     "text": [
      "Requirement already satisfied: feedparser in /opt/conda/lib/python3.11/site-packages (6.0.11)\n",
      "Requirement already satisfied: sgmllib3k in /opt/conda/lib/python3.11/site-packages (from feedparser) (1.0.0)\n"
     ]
    }
   ],
   "source": [
    "!pip install feedparser"
   ]
  },
  {
   "cell_type": "code",
   "execution_count": 2,
   "metadata": {},
   "outputs": [],
   "source": [
    "rss_url = 'https://feed.pixnet.net/blog/posts/rss/sweety612'"
   ]
  },
  {
   "cell_type": "code",
   "execution_count": 3,
   "metadata": {},
   "outputs": [
    {
     "name": "stdout",
     "output_type": "stream",
     "text": [
      "[手遊] Animal Restaurant 動物餐廳 兌換碼/禮包碼 領取操作方式\n",
      "[影片清單] 異色檔案 影片對應社會案件名稱\n",
      "[手遊] MEGACOM抓寶夢 第三代語音雙帳充電版\n",
      "[親子] 好孕2U專車補助-叫車篇\n",
      "[漁港規範] 全台釣點更新公開資訊 (截至2024年6月27日)\n",
      "[食記] Kenji健司 草莓巧酥脆片 評價 草莓餅乾推薦\n",
      "[騎士人身部品] 雙北市部品店\n",
      "[食記] 台東 山姆漢堡 Sam's Burger 手打漢堡排\n",
      "[東部景點] 台東東河 都蘭考古遺址：石棺區、石壁區\n",
      "[東部住宿] 台東 旅人驛站鐵花文創館 Traveller-INN\n",
      "[限時景點] 台東 鐵花燈之祭 展期:2024/4/4 - 6/25\n",
      "[市集活動] 台東 微光集TTwilight Bazaar\n",
      "[東部住宿] 台東 旅人驛站中正藏書館 Traveller-INN Zhongzheng Library\n",
      "[食記] 台東 夢碗粥 鹹粥餐車\n",
      "[東部住宿] 台東 旅人驛站日暮微旅 Traveller-INN Day Moon Hotel\n",
      "[消費] 新北板橋 Kawacake 卡瓦 紅心芭樂乳酪義式冰淇淋蛋糕 推薦\n",
      "[東部住宿] 台東 旅人驛站鐵花文創二館 Traveller-INN\n",
      "[東部住宿] 台東 米豆文旅 MIDO HOTEL\n",
      "[東部景點] 台東 阿伯小白屋 / 台東小白屋 / 小白屋 / 台版霍爾的移動城堡 / 台東霍爾的移動城堡\n",
      "[東部景點] 台東東河 八幡神社 / 台東八幡神社\n",
      "[毛孩] ProPETcare 寵沛活 晶球魚油、寵物機能保健肉泥(關節、護眼、腸胃)\n",
      "[書香] 一開口就讓人喜歡你\n",
      "[美妝] 台北 Cami.H Makeup 彩妝服務/彩妝教學\n",
      "[食記] 新北淡水 淡水烤大學平價火烤吃到飽(台式、韓式、特別食材) 再訪\n",
      "[居家] Altrason humidry智能除濕暖風乾燥機 暖風機vs除濕機評比\n",
      "[騎士部品] KABUTO OGK EXCEED vs Shoei J-Cruise II 評比\n",
      "[書香] 擺脫「欺負自己」的壞習慣：想太多不是你的錯，不夠好也沒關係，寫給高敏感人的40個自我實現指南\n",
      "[心情] 那位變成平行線的朋友\n",
      "[生活] 讓居家生活更美好 - 居家整聊室\n",
      "[美食清單] 吃貨豪豪HowHowEat 大胃王、吃到飽 全頻道店家統整\n",
      "[居家] SOTHING向物 可伸縮環形烘鞋器(定時線控板)\n",
      "[食記] 基隆安樂 Mr.Bean ＆ AFei 豆豆先生與他的阿肥．珈琲專門制研所\n",
      "[食記] 花蓮 燕銘黑輪紅輪\n",
      "[食記] Labelle拉蓓 X 雙月 精煉燉雞精 純心得分享\n",
      "[中部住宿] 台中大甲 東南亞行旅\n",
      "[車用部品] AKEEYO 安心教練 AIO-5 Lite 摩托車用 車機Carplay：行車紀錄器、測速提醒、BSD盲區監測、胎壓偵測\n",
      "[美食清單] 台中后里 后來莓好 草莓季懶人包\n",
      "[美食清單] 吃貨豪豪HowHowEat 新加坡、馬來西亞店家餐廳統整 大胃王、吃到飽\n",
      "[美食清單] 千千進食中 YouTube全頻道、facebook直播 店家統整清單\n",
      "[美食清單]千千進食中 - 草莓甜點10款巡禮！季節限定草莓控看過來，挑戰草莓101！\n"
     ]
    }
   ],
   "source": [
    "import feedparser\n",
    "\n",
    "feed = feedparser.parse(rss_url)\n",
    "\n",
    "for entry in feed.entries:\n",
    "  print(entry.title)"
   ]
  }
 ],
 "metadata": {
  "kernelspec": {
   "display_name": "Python 3 (ipykernel)",
   "language": "python",
   "name": "python3"
  },
  "language_info": {
   "codemirror_mode": {
    "name": "ipython",
    "version": 3
   },
   "file_extension": ".py",
   "mimetype": "text/x-python",
   "name": "python",
   "nbconvert_exporter": "python",
   "pygments_lexer": "ipython3",
   "version": "3.11.6"
  }
 },
 "nbformat": 4,
 "nbformat_minor": 4
}
